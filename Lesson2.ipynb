{
 "cells": [
  {
   "cell_type": "code",
   "execution_count": 2,
   "metadata": {},
   "outputs": [],
   "source": [
    "import numpy as np"
   ]
  },
  {
   "cell_type": "markdown",
   "metadata": {},
   "source": [
    "#### Задача 1\n",
    "\n",
    "Контрольная работа состоит из пяти вопросов. На каждый вопрос приведено четыре варианта ответа, один из которых правильный. Составьте закон распределения числа правильных ответов при простом угадывании. Найдите M(X), D(X)."
   ]
  },
  {
   "cell_type": "code",
   "execution_count": 1,
   "metadata": {},
   "outputs": [],
   "source": [
    "n = 5\n",
    "p = 1/4"
   ]
  },
  {
   "cell_type": "markdown",
   "metadata": {},
   "source": [
    "$$P(X = k) = C_n^k p^k (1 - p)^{n - k}$$\n",
    "\n",
    "Посчитаем вероятность каждого значения:\n",
    "$$P(X = 0) = C_5^0 \\cdot (3/4)^5 \\cdot (1/4)^0 = 243/1024$$\n",
    "    \n",
    "$$P(X = 1) = C_5^1 \\cdot (3/4)^4 \\cdot (1/4)^1 = 405/1024$$\n",
    "\n",
    "$$P(X = 2) = C_5^2 \\cdot (3/4)^3 \\cdot (1/4)^2 = 270/1024$$\n",
    "\n",
    "$$P(X = 3) = C_5^3 \\cdot (3/4)^2 \\cdot (1/4)^3 = 90/1024$$\n",
    "\n",
    "$$P(X = 4) = C_5^4 \\cdot (3/4)^1 \\cdot (1/4)^4 = 15/1024$$\n",
    "\n",
    "$$P(X = 5) = C_5^5 \\cdot (3/4)^0 \\cdot (1/4)^5 = 1/1024$$\n",
    "\n",
    "\n",
    "\n"
   ]
  },
  {
   "cell_type": "markdown",
   "metadata": {},
   "source": [
    "Закон распределения случайной величины:\n",
    "\n",
    "<table border=\"3\">\n",
    "    <tr>\n",
    "        <th>$x$</th>\n",
    "        <td>0</td>\n",
    "        <td>1</td>\n",
    "        <td>2</td>\n",
    "        <td>3</td>\n",
    "        <td>4</td>\n",
    "        <td>5</td>\n",
    "    </tr>\n",
    "    <tr>\n",
    "        <th>$P(X = x)$</th>\n",
    "        <td>243/1024</td>\n",
    "        <td>405/1024</td>\n",
    "        <td>270/1024</td>\n",
    "        <td>90/1024</td>\n",
    "        <td>15/1024</td>\n",
    "        <td>1/1024</td>\n",
    "    </tr>\n",
    "</table>"
   ]
  },
  {
   "cell_type": "markdown",
   "metadata": {},
   "source": [
    "$$M(X) = 5 \\cdot 1/4 = 1.25$$\n",
    "$$D(X) = 5 \\cdot 1/4 \\cdot (3/4) = 0.9375$$"
   ]
  },
  {
   "cell_type": "markdown",
   "metadata": {},
   "source": [
    "#### Задача 2\n",
    "\n",
    "Вероятность попадания в цель при одном выстреле равна 0.01. Какова вероятность того, что число попаданий при 200 выстрелах будет не менее 5 и не более 10?"
   ]
  },
  {
   "cell_type": "markdown",
   "metadata": {},
   "source": [
    "$$P(5 \\leq k \\leq 10) = \\displaystyle\\sum_{i = 5}^{10} C_{200}^i \\cdot 0.01^i \\cdot 0.99^{200-i}$$"
   ]
  },
  {
   "cell_type": "code",
   "execution_count": 16,
   "metadata": {},
   "outputs": [],
   "source": [
    "def bernoulli(n, k, p):\n",
    "    \n",
    "    return (p**k) * ((1-p)**(n-k)) * (np.math.factorial(n) / (np.math.factorial(k) * np.math.factorial(n-k)))  "
   ]
  },
  {
   "cell_type": "code",
   "execution_count": 18,
   "metadata": {},
   "outputs": [
    {
     "data": {
      "text/plain": [
       "0.051739381860374606"
      ]
     },
     "execution_count": 18,
     "metadata": {},
     "output_type": "execute_result"
    }
   ],
   "source": [
    "sum(bernoulli(n=200, k=i, p=0.01) for i in range(5,11,1))"
   ]
  },
  {
   "cell_type": "code",
   "execution_count": null,
   "metadata": {},
   "outputs": [],
   "source": []
  }
 ],
 "metadata": {
  "kernelspec": {
   "display_name": "Python 3",
   "language": "python",
   "name": "python3"
  },
  "language_info": {
   "codemirror_mode": {
    "name": "ipython",
    "version": 3
   },
   "file_extension": ".py",
   "mimetype": "text/x-python",
   "name": "python",
   "nbconvert_exporter": "python",
   "pygments_lexer": "ipython3",
   "version": "3.8.3"
  }
 },
 "nbformat": 4,
 "nbformat_minor": 4
}
